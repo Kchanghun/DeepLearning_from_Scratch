{
 "cells": [
  {
   "cell_type": "markdown",
   "metadata": {},
   "source": [
    "# Back Propagation"
   ]
  },
  {
   "cell_type": "markdown",
   "metadata": {},
   "source": [
    "## Import Library"
   ]
  },
  {
   "cell_type": "code",
   "execution_count": 27,
   "metadata": {},
   "outputs": [],
   "source": [
    "import sys, os\n",
    "import numpy as np\n",
    "import matplotlib.pyplot as plt\n",
    "from mpl_toolkits.mplot3d import Axes3D\n",
    "from collections import OrderedDict\n",
    "import copy\n",
    "# from PIL import Image\n",
    "# import pickle\n",
    "import import_ipynb\n",
    "sys.path.append(os.pardir)\n",
    "from DataSet.mnist import load_mnist\n",
    "from Ch2_3.handWrittenDigit import get_data, init_network, predict, img_show\n",
    "from Ch2_3.activation_function import softmax, sigmoid\n",
    "from Ch4.load_error import cross_entropy_error\n",
    "from Ch4.gradient import numerical_gradient"
   ]
  },
  {
   "cell_type": "markdown",
   "metadata": {},
   "source": [
    "## Multiply Layer"
   ]
  },
  {
   "cell_type": "code",
   "execution_count": 2,
   "metadata": {},
   "outputs": [],
   "source": [
    "class MulLayer:\n",
    "    def __init__(self):\n",
    "        self.x = None\n",
    "        self.y = None\n",
    "    \n",
    "    def forward(self,x,y):\n",
    "        self.x = x\n",
    "        self.y = y\n",
    "        out = x*y\n",
    "        \n",
    "        return out\n",
    "    \n",
    "    def backward(self,dout):\n",
    "        dx = dout * self.y\n",
    "        dy = dout * self.x\n",
    "        \n",
    "        return dx, dy"
   ]
  },
  {
   "cell_type": "code",
   "execution_count": 3,
   "metadata": {},
   "outputs": [
    {
     "name": "stdout",
     "output_type": "stream",
     "text": [
      "220.00000000000003\n"
     ]
    }
   ],
   "source": [
    "apple = 100\n",
    "apple_num = 2\n",
    "tax = 1.1\n",
    "\n",
    "mul_apple_layer = MulLayer()\n",
    "mul_tax_layer = MulLayer()\n",
    "\n",
    "apple_price = mul_apple_layer.forward(apple,apple_num)\n",
    "price = mul_tax_layer.forward(apple_price,tax)\n",
    "\n",
    "print(price)"
   ]
  },
  {
   "cell_type": "code",
   "execution_count": 4,
   "metadata": {},
   "outputs": [
    {
     "name": "stdout",
     "output_type": "stream",
     "text": [
      "2.2 110.00000000000001 200\n"
     ]
    }
   ],
   "source": [
    "dprice = 1\n",
    "dapple_price, dtax = mul_tax_layer.backward(dprice)\n",
    "dapple, dapple_num = mul_apple_layer.backward(dapple_price)\n",
    "\n",
    "print(dapple, dapple_num, dtax)"
   ]
  },
  {
   "cell_type": "markdown",
   "metadata": {},
   "source": [
    "## Add Layer"
   ]
  },
  {
   "cell_type": "code",
   "execution_count": 5,
   "metadata": {},
   "outputs": [],
   "source": [
    "class AddLayer:\n",
    "    def __init__(self):\n",
    "        pass\n",
    "    \n",
    "    def forward(self,x,y):\n",
    "        out = x+y\n",
    "        return out\n",
    "    \n",
    "    def backward(self,dout):\n",
    "        dx = dout*1\n",
    "        dy = dout*1\n",
    "        return dx, dy\n"
   ]
  },
  {
   "cell_type": "code",
   "execution_count": 6,
   "metadata": {},
   "outputs": [
    {
     "name": "stdout",
     "output_type": "stream",
     "text": [
      "715.0000000000001\n",
      "110.00000000000001 2.2 3.3000000000000003 165.0 650\n"
     ]
    }
   ],
   "source": [
    "apple = 100\n",
    "apple_num = 2\n",
    "orange = 150\n",
    "orange_num = 3\n",
    "tax = 1.1\n",
    "\n",
    "# Layers\n",
    "mul_apple_layer = MulLayer()\n",
    "mul_orange_layer = MulLayer()\n",
    "add_apple_orange_layer = AddLayer()\n",
    "mul_tax_layer = MulLayer()\n",
    "\n",
    "# Forward Propagation\n",
    "apple_price = mul_apple_layer.forward(apple,apple_num)\n",
    "orange_price = mul_orange_layer.forward(orange,orange_num)\n",
    "all_price = add_apple_orange_layer.forward(apple_price,orange_price)\n",
    "price = mul_tax_layer.forward(all_price,tax)\n",
    "\n",
    "# Backward Propagation\n",
    "dprice = 1\n",
    "dall_price, dtax = mul_tax_layer.backward(dprice)\n",
    "dapple_price, dorange_price = add_apple_orange_layer.backward(dall_price)\n",
    "dapple, dapple_num = mul_apple_layer.backward(dapple_price)\n",
    "dorange, dorange_num = mul_orange_layer.backward(dorange_price)\n",
    "\n",
    "print(price)\n",
    "print(dapple_num,dapple,dorange,dorange_num,dtax)\n"
   ]
  },
  {
   "cell_type": "markdown",
   "metadata": {},
   "source": [
    "## ReLu Layer"
   ]
  },
  {
   "cell_type": "code",
   "execution_count": 7,
   "metadata": {},
   "outputs": [],
   "source": [
    "class ReLu:\n",
    "    def __init__(self):\n",
    "        self.mask = None\n",
    "        \n",
    "    def forward(self,x):\n",
    "        self.mask = (x<=0)\n",
    "        out = x.copy()\n",
    "        out[self.mask] = 0\n",
    "        return out\n",
    "    \n",
    "    def backward(self, dout):\n",
    "        dout[self.mask] = 0\n",
    "        dx = dout\n",
    "        return dx"
   ]
  },
  {
   "cell_type": "markdown",
   "metadata": {},
   "source": [
    "## Sigmoid Layer"
   ]
  },
  {
   "cell_type": "code",
   "execution_count": 8,
   "metadata": {},
   "outputs": [],
   "source": [
    "class Sigmoid:\n",
    "    def __init__(self):\n",
    "        self.out = None\n",
    "    \n",
    "    def forward(self, x):\n",
    "        out = sigmoid(x)\n",
    "        self.out = out\n",
    "        return out\n",
    "    \n",
    "    def backward(self, dout):\n",
    "        dx = dout * (1 - self.out) * self.out\n",
    "        return dx"
   ]
  },
  {
   "cell_type": "markdown",
   "metadata": {},
   "source": [
    "## Affine Layer"
   ]
  },
  {
   "cell_type": "code",
   "execution_count": 9,
   "metadata": {},
   "outputs": [],
   "source": [
    "class Affine:\n",
    "    def __init__(self, W, b):\n",
    "        self.W = W\n",
    "        self.b = b\n",
    "        \n",
    "        self.x = None\n",
    "        self.original_x_shape = None\n",
    "        \n",
    "        self.dW = None\n",
    "        self.db = None\n",
    "        \n",
    "    def forward(self, x):\n",
    "        self.original_x_shape = x.shape\n",
    "        x = x.reshape(x.shape[0],-1)\n",
    "        self.x = x\n",
    "        \n",
    "        out = np.dot(self.x, self.W) + self.b\n",
    "        return out\n",
    "    \n",
    "    def backward(self,dout):\n",
    "        dx = np.dot(dout, self.W.T)\n",
    "        self.dW = np.dot(self.x.T, dout)\n",
    "        self.db = np.sum(dout, axis=0)\n",
    "        \n",
    "        dx = dx.reshape(*self.original_x_shape)\n",
    "        return dx"
   ]
  },
  {
   "cell_type": "code",
   "execution_count": 10,
   "metadata": {},
   "outputs": [
    {
     "name": "stdout",
     "output_type": "stream",
     "text": [
      "[[ 1  2  3]\n",
      " [11 12 13]]\n",
      "[[15 15]\n",
      " [24 24]]\n"
     ]
    }
   ],
   "source": [
    "affine = Affine(np.array([[1,1,1],[1,1,1]]),np.array([1,2,3]))\n",
    "# np.dot(np.array([[0,0],[0,10]]),affine.W)\n",
    "print(affine.forward(np.array([[0,0],[0,10]])))\n",
    "print(affine.backward(np.array([[4,5,6],[7,8,9]])))"
   ]
  },
  {
   "cell_type": "markdown",
   "metadata": {},
   "source": [
    "## Softmax with Loss Layer"
   ]
  },
  {
   "cell_type": "code",
   "execution_count": 11,
   "metadata": {},
   "outputs": [],
   "source": [
    "class SoftmaxWithLoss:\n",
    "    def __init__(self):\n",
    "        self.loss = None\n",
    "        self.y = None\n",
    "        self.t = None\n",
    "        \n",
    "    def forward(self, x, t):\n",
    "        self.t = t\n",
    "        self.y = softmax(x)\n",
    "        self.loss = cross_entropy_error(self.y, self.t)\n",
    "        return self.loss\n",
    "    \n",
    "    def backward(self, dout=1):\n",
    "        batch_size = self.t.shape[0]\n",
    "        if self.t.size == self.y.size:\n",
    "            dx = (self.y - self.t) / batch_size\n",
    "        else:\n",
    "            dx = self.y.copy()\n",
    "            dx[np.arange(batch_size), self.t] -= 1\n",
    "            dx = dx / batch_size\n",
    "            \n",
    "        return dx"
   ]
  },
  {
   "cell_type": "markdown",
   "metadata": {},
   "source": [
    "# 오차역전파를 이용한 신경만 구현"
   ]
  },
  {
   "cell_type": "code",
   "execution_count": 12,
   "metadata": {},
   "outputs": [],
   "source": [
    "class TwoLayerNet:\n",
    "    def __init__(self, input_size, hidden_size, output_size,\\\n",
    "                    weight_init_std=0.01):\n",
    "        self.params = {}\n",
    "        self.params['W1'] = weight_init_std * \\\n",
    "                            np.random.randn(input_size, hidden_size)\n",
    "        self.params['b1'] = np.zeros(hidden_size)\n",
    "        self.params['W2'] = weight_init_std * \\\n",
    "                            np.random.randn(hidden_size, output_size)\n",
    "        self.params['b2'] = np.zeros(output_size)\n",
    "        \n",
    "        self.layers = OrderedDict()\n",
    "        self.layers['Affine1'] = \\\n",
    "                Affine(self.params['W1'], self.params['b1'])\n",
    "        self.layers['Relu1'] = ReLu()\n",
    "        self.layers['Affine2'] = \\\n",
    "                Affine(self.params['W2'], self.params['b2'])\n",
    "        \n",
    "        self.lastLayer = SoftmaxWithLoss()\n",
    "        \n",
    "    def predict(self, x):\n",
    "        for layer in self.layers.values():\n",
    "            x = layer.forward(x)\n",
    "        \n",
    "        return x\n",
    "    \n",
    "    def loss(self, x, t):\n",
    "        y = self.predict(x)\n",
    "        return self.lastLayer.forward(y, t)\n",
    "    \n",
    "    def accuracy(self, x, t):\n",
    "        y = self.predict(x)\n",
    "        y = np.argmax(y, axis=1)\n",
    "        if t.ndim != 1 : t = np.argmax(t, axis=1)\n",
    "        \n",
    "        accuracy = np.sum(y == t) / float(x.shape[0])\n",
    "        return accuracy\n",
    "    \n",
    "    def numerical_gradient(self, x, t):\n",
    "        loss_W = lambda W: self.loss(x, t)\n",
    "        \n",
    "        grads = {}\n",
    "        grads['W1'] = numerical_gradient(loss_W, self.params['W1'])\n",
    "        grads['b1'] = numerical_gradient(loss_W, self.params['b1'])\n",
    "        grads['W2'] = numerical_gradient(loss_W, self.params['W2'])\n",
    "        grads['b2'] = numerical_gradient(loss_W, self.params['b2'])\n",
    "        return grads\n",
    "    \n",
    "    def gradient(self, x, t):\n",
    "        self.loss(x, t)\n",
    "        \n",
    "        dout = 1\n",
    "        dout = self.lastLayer.backward(dout)\n",
    "        \n",
    "        layers = list(self.layers.values())\n",
    "        layers.reverse()\n",
    "        for layer in layers:\n",
    "            dout = layer.backward(dout)\n",
    "            \n",
    "        grads = {}\n",
    "        grads['W1'] = self.layers['Affine1'].dW\n",
    "        grads['b1'] = self.layers['Affine1'].db\n",
    "        grads['W2'] = self.layers['Affine2'].dW\n",
    "        grads['b2'] = self.layers['Affine2'].db\n",
    "        \n",
    "        return grads\n",
    "        "
   ]
  },
  {
   "cell_type": "markdown",
   "metadata": {},
   "source": [
    "## 기울기 확인 ( Gradient Check )"
   ]
  },
  {
   "cell_type": "code",
   "execution_count": 91,
   "metadata": {},
   "outputs": [
    {
     "name": "stdout",
     "output_type": "stream",
     "text": [
      "W1:2.384085750233105e-13\n",
      "b1:8.718057124736805e-13\n",
      "W2:9.105375845669394e-13\n",
      "b2:1.201261257133268e-10\n"
     ]
    }
   ],
   "source": [
    "(x_train, t_train), (x_test, t_test) = \\\n",
    "    load_mnist(normalize=True, one_hot_label=True)\n",
    "    \n",
    "network = TwoLayerNet(input_size=784, hidden_size=50, output_size=10)\n",
    "\n",
    "x_batch = x_train[:3]\n",
    "t_batch = t_train[:3]\n",
    "\n",
    "grad_numerical = network.numerical_gradient(x_batch, t_batch)\n",
    "grad_backprop  = network.gradient(x_batch, t_batch)\n",
    "\n",
    "for key in grad_numerical.keys():\n",
    "    diff = np.average(np.abs(grad_backprop[key] - grad_numerical[key]))\n",
    "    print(key + ':' + str(diff))"
   ]
  },
  {
   "cell_type": "code",
   "execution_count": 92,
   "metadata": {},
   "outputs": [
    {
     "name": "stdout",
     "output_type": "stream",
     "text": [
      "train acc, test acc | 0.16396666666666668, 0.168\n",
      "train acc, test acc | 0.9037, 0.9072\n",
      "train acc, test acc | 0.92265, 0.9221\n",
      "train acc, test acc | 0.9351833333333334, 0.9338\n",
      "train acc, test acc | 0.9434833333333333, 0.941\n",
      "train acc, test acc | 0.9474166666666667, 0.9461\n",
      "train acc, test acc | 0.9541333333333334, 0.952\n",
      "train acc, test acc | 0.95805, 0.9536\n",
      "train acc, test acc | 0.9617833333333333, 0.9562\n",
      "train acc, test acc | 0.96385, 0.9578\n",
      "train acc, test acc | 0.9676833333333333, 0.9619\n",
      "train acc, test acc | 0.9690166666666666, 0.9631\n",
      "train acc, test acc | 0.9694666666666667, 0.964\n",
      "train acc, test acc | 0.9725666666666667, 0.9674\n",
      "train acc, test acc | 0.9750666666666666, 0.9672\n",
      "train acc, test acc | 0.9756, 0.9681\n",
      "train acc, test acc | 0.9768, 0.9676\n"
     ]
    }
   ],
   "source": [
    "(x_train, t_train), (x_test, t_test) = \\\n",
    "    load_mnist(normalize=True,one_hot_label=True)\n",
    "\n",
    "train_loss_list = []\n",
    "train_acc_list = []\n",
    "test_acc_list = []\n",
    "\n",
    "# hyper parameter\n",
    "iters_num = 10000\n",
    "train_size = x_train.shape[0]\n",
    "batch_size = 100\n",
    "learning_rate = 0.1\n",
    "network = TwoLayerNet(input_size=784, hidden_size=50, output_size=10)\n",
    "\n",
    "# 100\n",
    "iter_per_epoch = max(train_size / batch_size, 1)\n",
    "\n",
    "for i in range(iters_num):\n",
    "    # step 1 : Mini Batch training\n",
    "    batch_mask = np.random.choice(train_size,batch_size)\n",
    "    x_batch = x_train[batch_mask]\n",
    "    t_batch = t_train[batch_mask]\n",
    "    \n",
    "    # step 2 : Gradient\n",
    "    # grad = network.numerical_gradient(x_batch,t_batch)\n",
    "    grad = network.gradient(x_batch, t_batch)\n",
    "    \n",
    "    # step 3 : update parameter\n",
    "    for key in ('W1','b1','W2','b2'):\n",
    "        network.params[key] -= learning_rate*grad[key]\n",
    "        \n",
    "    # step 4 : record history & back to step 1\n",
    "    loss = network.loss(x_batch,t_batch)\n",
    "    train_loss_list.append(loss)\n",
    "    \n",
    "    if i % iter_per_epoch == 0:\n",
    "        train_acc = network.accuracy(x_train,t_train)\n",
    "        test_acc = network.accuracy(x_test,t_test)\n",
    "        train_acc_list.append(train_acc)\n",
    "        test_acc_list.append(test_acc)\n",
    "        print(\"train acc, test acc | \" + str(train_acc)+\\\n",
    "            ', '+str(test_acc))"
   ]
  },
  {
   "cell_type": "code",
   "execution_count": 93,
   "metadata": {},
   "outputs": [
    {
     "data": {
      "image/png": "[encoded data removed]",
      "text/plain": [
       "<Figure size 432x288 with 1 Axes>"
      ]
     },
     "metadata": {
      "needs_background": "light"
     },
     "output_type": "display_data"
    }
   ],
   "source": [
    "plt.title('loss')\n",
    "plt.plot(train_loss_list[:2000],'-r')\n",
    "plt.show()"
   ]
  },
  {
   "cell_type": "code",
   "execution_count": 94,
   "metadata": {},
   "outputs": [
    {
     "data": {
      "image/png": "[encoded data removed]",
      "text/plain": [
       "<Figure size 432x288 with 1 Axes>"
      ]
     },
     "metadata": {
      "needs_background": "light"
     },
     "output_type": "display_data"
    }
   ],
   "source": [
    "plt.title('accuracy')\n",
    "plt.plot(train_acc_list,'-r',label = 'train acc')\n",
    "plt.plot(test_acc_list,'--g',label = 'test acc')\n",
    "plt.legend()\n",
    "plt.show()"
   ]
  },
  {
   "cell_type": "markdown",
   "metadata": {},
   "source": [
    "## k-fold"
   ]
  },
  {
   "cell_type": "code",
   "execution_count": 95,
   "metadata": {},
   "outputs": [],
   "source": [
    "def shuffle_dataset(x, t):\n",
    "    \"\"\"데이터셋을 뒤섞는다.\n",
    "    Parameters\n",
    "    ----------\n",
    "    x : 훈련 데이터\n",
    "    t : 정답 레이블\n",
    "    \n",
    "    Returns\n",
    "    -------\n",
    "    x, t : 뒤섞은 훈련 데이터와 정답 레이블\n",
    "    \"\"\"\n",
    "    permutation = np.random.permutation(x.shape[0])\n",
    "    x = x[permutation,:] if x.ndim == 2 else x[permutation,:,:,:]\n",
    "    t = t[permutation]\n",
    "\n",
    "    return x, t"
   ]
  },
  {
   "cell_type": "code",
   "execution_count": 98,
   "metadata": {},
   "outputs": [],
   "source": [
    "x_train, t_train = shuffle_dataset(x_train,t_train)\n",
    "x_total = x_train.copy()\n",
    "t_total = t_train.copy()\n",
    "\n",
    "x_train_dic = {}\n",
    "x_test_dic = {}\n",
    "t_train_dic = {}\n",
    "t_test_dic = {}\n",
    "\n",
    "fold_str = ['0','1','2','3','4']\n",
    "fold_size = 10000\n",
    "for fold_key in fold_str:\n",
    "    for i in range(5):\n",
    "        x_test_dic[fold_key] = x_total[i*fold_size:(i+1)*fold_size]\n",
    "        t_test_dic[fold_key] = t_total[i*fold_size:(i+1)*fold_size]\n",
    "        x_train_dic[fold_key] = np.concatenate((x_total[:i*fold_size],x_total[(i+1)*fold_size:]),axis=0)\n",
    "        t_train_dic[fold_key] = np.concatenate((t_total[:i*fold_size],t_total[(i+1)*fold_size:]),axis=0)"
   ]
  },
  {
   "cell_type": "code",
   "execution_count": 99,
   "metadata": {},
   "outputs": [
    {
     "name": "stdout",
     "output_type": "stream",
     "text": [
      "===========0 epoch=============\n",
      "train acc, test acc | 0.11494, 0.1091\n",
      "train acc, test acc | 0.88614, 0.8888\n",
      "train acc, test acc | 0.9093, 0.9111\n",
      "train acc, test acc | 0.92228, 0.9217\n",
      "train acc, test acc | 0.92972, 0.9275\n",
      "train acc, test acc | 0.93384, 0.9321\n",
      "train acc, test acc | 0.93958, 0.9367\n",
      "train acc, test acc | 0.94808, 0.9438\n",
      "train acc, test acc | 0.94964, 0.9451\n",
      "train acc, test acc | 0.95594, 0.9477\n",
      "train acc, test acc | 0.95954, 0.9511\n",
      "train acc, test acc | 0.96086, 0.953\n",
      "train acc, test acc | 0.9633, 0.955\n",
      "train acc, test acc | 0.96592, 0.9563\n",
      "train acc, test acc | 0.96816, 0.9587\n",
      "train acc, test acc | 0.9691, 0.9597\n",
      "train acc, test acc | 0.97154, 0.9602\n",
      "train acc, test acc | 0.97246, 0.9621\n",
      "train acc, test acc | 0.97198, 0.9631\n",
      "train acc, test acc | 0.9756, 0.9633\n",
      "train acc, test acc | 0.97224, 0.9602\n",
      "train acc, test acc | 0.97766, 0.9633\n",
      "train acc, test acc | 0.97876, 0.9642\n",
      "train acc, test acc | 0.97678, 0.9639\n",
      "train acc, test acc | 0.97948, 0.9657\n",
      "===========1 epoch=============\n",
      "train acc, test acc | 0.11306, 0.1145\n",
      "train acc, test acc | 0.89044, 0.8943\n",
      "train acc, test acc | 0.91122, 0.9123\n",
      "train acc, test acc | 0.91736, 0.9196\n",
      "train acc, test acc | 0.9283, 0.9276\n",
      "train acc, test acc | 0.93642, 0.9333\n",
      "train acc, test acc | 0.94204, 0.9401\n",
      "train acc, test acc | 0.9455, 0.9413\n",
      "train acc, test acc | 0.95012, 0.9454\n",
      "train acc, test acc | 0.95502, 0.9458\n",
      "train acc, test acc | 0.95756, 0.9495\n",
      "train acc, test acc | 0.96092, 0.9526\n",
      "train acc, test acc | 0.96066, 0.9514\n",
      "train acc, test acc | 0.965, 0.9556\n",
      "train acc, test acc | 0.96628, 0.9582\n",
      "train acc, test acc | 0.96874, 0.9594\n",
      "train acc, test acc | 0.9692, 0.9577\n",
      "train acc, test acc | 0.97228, 0.9621\n",
      "train acc, test acc | 0.97242, 0.9609\n",
      "train acc, test acc | 0.97402, 0.9629\n",
      "train acc, test acc | 0.9766, 0.9642\n",
      "train acc, test acc | 0.97624, 0.9637\n",
      "train acc, test acc | 0.9767, 0.9639\n",
      "train acc, test acc | 0.9779, 0.9651\n",
      "train acc, test acc | 0.97918, 0.9664\n",
      "===========2 epoch=============\n",
      "train acc, test acc | 0.08704, 0.0856\n",
      "train acc, test acc | 0.89112, 0.893\n",
      "train acc, test acc | 0.91118, 0.9106\n",
      "train acc, test acc | 0.92086, 0.9189\n",
      "train acc, test acc | 0.93138, 0.9286\n",
      "train acc, test acc | 0.93968, 0.9365\n",
      "train acc, test acc | 0.94492, 0.9408\n",
      "train acc, test acc | 0.94958, 0.9448\n",
      "train acc, test acc | 0.9548, 0.9504\n",
      "train acc, test acc | 0.95808, 0.9515\n",
      "train acc, test acc | 0.96038, 0.9523\n",
      "train acc, test acc | 0.96228, 0.9548\n",
      "train acc, test acc | 0.96494, 0.9575\n",
      "train acc, test acc | 0.96614, 0.9577\n",
      "train acc, test acc | 0.96802, 0.9582\n",
      "train acc, test acc | 0.96912, 0.9597\n",
      "train acc, test acc | 0.9705, 0.9603\n",
      "train acc, test acc | 0.97208, 0.9619\n",
      "train acc, test acc | 0.97464, 0.9633\n",
      "train acc, test acc | 0.97534, 0.9632\n",
      "train acc, test acc | 0.97572, 0.9639\n",
      "train acc, test acc | 0.97698, 0.964\n",
      "train acc, test acc | 0.97772, 0.9651\n",
      "train acc, test acc | 0.97822, 0.9643\n",
      "train acc, test acc | 0.97828, 0.965\n",
      "===========3 epoch=============\n",
      "train acc, test acc | 0.11672, 0.1095\n",
      "train acc, test acc | 0.89268, 0.8928\n",
      "train acc, test acc | 0.9101, 0.91\n",
      "train acc, test acc | 0.92454, 0.9229\n",
      "train acc, test acc | 0.93222, 0.9327\n",
      "train acc, test acc | 0.9398, 0.9384\n",
      "train acc, test acc | 0.94508, 0.9416\n",
      "train acc, test acc | 0.94862, 0.9472\n",
      "train acc, test acc | 0.95438, 0.9482\n",
      "train acc, test acc | 0.95696, 0.9517\n",
      "train acc, test acc | 0.96062, 0.9546\n",
      "train acc, test acc | 0.96102, 0.9542\n",
      "train acc, test acc | 0.96382, 0.9552\n",
      "train acc, test acc | 0.96594, 0.9568\n",
      "train acc, test acc | 0.96834, 0.9568\n",
      "train acc, test acc | 0.96934, 0.9625\n",
      "train acc, test acc | 0.97114, 0.963\n",
      "train acc, test acc | 0.97278, 0.9633\n",
      "train acc, test acc | 0.9741, 0.9638\n",
      "train acc, test acc | 0.97444, 0.9627\n",
      "train acc, test acc | 0.97566, 0.963\n",
      "train acc, test acc | 0.97678, 0.9652\n",
      "train acc, test acc | 0.97666, 0.963\n",
      "train acc, test acc | 0.97798, 0.9667\n",
      "train acc, test acc | 0.97862, 0.9662\n",
      "===========4 epoch=============\n",
      "train acc, test acc | 0.11242, 0.1086\n",
      "train acc, test acc | 0.89374, 0.8948\n",
      "train acc, test acc | 0.91236, 0.9148\n",
      "train acc, test acc | 0.92426, 0.9255\n",
      "train acc, test acc | 0.93216, 0.9335\n",
      "train acc, test acc | 0.941, 0.937\n",
      "train acc, test acc | 0.94538, 0.9415\n",
      "train acc, test acc | 0.9493, 0.9454\n",
      "train acc, test acc | 0.9528, 0.9474\n",
      "train acc, test acc | 0.95462, 0.9463\n",
      "train acc, test acc | 0.95872, 0.9502\n",
      "train acc, test acc | 0.9599, 0.9518\n",
      "train acc, test acc | 0.9633, 0.9556\n",
      "train acc, test acc | 0.96512, 0.9557\n",
      "train acc, test acc | 0.96612, 0.956\n",
      "train acc, test acc | 0.96838, 0.9584\n",
      "train acc, test acc | 0.96966, 0.9596\n",
      "train acc, test acc | 0.97106, 0.9593\n",
      "train acc, test acc | 0.9722, 0.9605\n",
      "train acc, test acc | 0.97236, 0.9606\n",
      "train acc, test acc | 0.97456, 0.9613\n",
      "train acc, test acc | 0.97596, 0.9635\n",
      "train acc, test acc | 0.97598, 0.9634\n",
      "train acc, test acc | 0.97738, 0.9653\n",
      "train acc, test acc | 0.9781, 0.9642\n"
     ]
    }
   ],
   "source": [
    "train_loss_list = []\n",
    "train_acc_list = []\n",
    "test_acc_list = []\n",
    "\n",
    "# hyper parameter\n",
    "# 25 epochs\n",
    "iters_num = 10000\n",
    "# train_size = x_train.shape[0]\n",
    "train_size = 40000\n",
    "batch_size = 100\n",
    "learning_rate = 0.1\n",
    "networks={}\n",
    "for fold_key in x_train_dic.keys():\n",
    "    networks[fold_key] = TwoLayerNet(input_size=784, hidden_size=50, output_size=10)\n",
    "\n",
    "# 400 per epoch\n",
    "iter_per_epoch = max(train_size / batch_size, 1)\n",
    "\n",
    "\n",
    "batch_offset = 0\n",
    "fold_offset = 0\n",
    "for fold_key in x_train_dic.keys():\n",
    "    print('==========='+fold_key+' epoch'+'=============')\n",
    "    for i in range(iters_num):\n",
    "        # step 1 : Mini Batch training\n",
    "        batch_mask = np.random.choice(train_size,batch_size)\n",
    "        # x_batch = x_train[batch_mask]\n",
    "        # t_batch = t_train[batch_mask]\n",
    "        x_batch = x_train_dic[fold_key][batch_mask]\n",
    "        t_batch = t_train_dic[fold_key][batch_mask]\n",
    "        \n",
    "        \n",
    "        # step 2 : Gradient\n",
    "        # grad = network.numerical_gradient(x_batch,t_batch)\n",
    "        grad = networks[fold_key].gradient(x_batch, t_batch)\n",
    "        \n",
    "        # step 3 : update parameter\n",
    "        for key in ('W1','b1','W2','b2'):\n",
    "            networks[fold_key].params[key] -= learning_rate*grad[key]\n",
    "            \n",
    "        # step 4 : record history & back to step 1\n",
    "        loss = networks[fold_key].loss(x_batch,t_batch)\n",
    "        train_loss_list.append(loss)\n",
    "        \n",
    "        batch_offset = batch_offset + batch_size\n",
    "        if i % iter_per_epoch == 0:\n",
    "            train_acc = networks[fold_key].accuracy(x_train_dic[fold_key],t_train_dic[fold_key])\n",
    "            test_acc = networks[fold_key].accuracy(x_test_dic[fold_key],t_test_dic[fold_key])\n",
    "            train_acc_list.append(train_acc)\n",
    "            test_acc_list.append(test_acc)\n",
    "            print(\"train acc, test acc | \" + str(train_acc)+\\\n",
    "                ', '+str(test_acc))"
   ]
  },
  {
   "cell_type": "code",
   "execution_count": 100,
   "metadata": {},
   "outputs": [
    {
     "data": {
      "image/png": "[encoded data removed]",
      "text/plain": [
       "<Figure size 1728x432 with 5 Axes>"
      ]
     },
     "metadata": {
      "needs_background": "light"
     },
     "output_type": "display_data"
    }
   ],
   "source": [
    "plt.figure(figsize=(24,6))\n",
    "for i in range(5):\n",
    "    plt.subplot(1,5,i+1)\n",
    "    plt.title(str(i+1)+' fold')\n",
    "    plot_range = i*25\n",
    "    plt.plot(train_acc_list[plot_range:plot_range+25],'-r',label='train acc')\n",
    "    plt.plot(test_acc_list[plot_range:plot_range+25],'--b',label='test acc')\n",
    "    \n",
    "plt.legend()\n",
    "plt.show()"
   ]
  },
  {
   "cell_type": "code",
   "execution_count": 101,
   "metadata": {},
   "outputs": [
    {
     "name": "stdout",
     "output_type": "stream",
     "text": [
      "final train accuracy : 0.9787320000000002\n",
      "final test accuracy : 0.9654999999999999\n"
     ]
    }
   ],
   "source": [
    "final_train_acc = 0\n",
    "final_test_acc = 0\n",
    "for i in range(5):\n",
    "    final_train_acc += train_acc_list[24+i*25]\n",
    "    final_test_acc += test_acc_list[24+i*25]\n",
    "    \n",
    "final_train_acc /= 5\n",
    "final_test_acc /= 5\n",
    "print('final train accuracy : '+str(final_train_acc))\n",
    "print('final test accuracy : '+str(final_test_acc))"
   ]
  }
 ],
 "metadata": {
  "kernelspec": {
   "display_name": "Python 3.10.0 64-bit",
   "language": "python",
   "name": "python3"
  },
  "language_info": {
   "codemirror_mode": {
    "name": "ipython",
    "version": 3
   },
   "file_extension": ".py",
   "mimetype": "text/x-python",
   "name": "python",
   "nbconvert_exporter": "python",
   "pygments_lexer": "ipython3",
   "version": "3.10.0"
  },
  "orig_nbformat": 4,
  "vscode": {
   "interpreter": {
    "hash": "aee8b7b246df8f9039afb4144a1f6fd8d2ca17a180786b69acc140d282b71a49"
   }
  }
 },
 "nbformat": 4,
 "nbformat_minor": 2
}
